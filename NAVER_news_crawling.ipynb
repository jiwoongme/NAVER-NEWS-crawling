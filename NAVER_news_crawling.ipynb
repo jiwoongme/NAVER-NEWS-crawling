{
 "cells": [
  {
   "cell_type": "code",
   "execution_count": 1,
   "metadata": {},
   "outputs": [],
   "source": [
    "import pyfacebook"
   ]
  },
  {
   "cell_type": "code",
   "execution_count": 2,
   "metadata": {},
   "outputs": [],
   "source": [
    "from bs4 import BeautifulSoup\n",
    "from datetime import datetime\n",
    "import requests\n",
    "import pandas as pd"
   ]
  },
  {
   "cell_type": "code",
   "execution_count": 3,
   "metadata": {},
   "outputs": [],
   "source": [
    "today = datetime.today().strftime(\"%Y.%m.%d\")"
   ]
  },
  {
   "cell_type": "code",
   "execution_count": 4,
   "metadata": {},
   "outputs": [
    {
     "name": "stdout",
     "output_type": "stream",
     "text": [
      "20210203\n"
     ]
    }
   ],
   "source": [
    "print(today.replace(\".\", \"\"))"
   ]
  },
  {
   "cell_type": "code",
   "execution_count": 5,
   "metadata": {
    "scrolled": false
   },
   "outputs": [
    {
     "name": "stdout",
     "output_type": "stream",
     "text": [
      "네이버, 테크핀·디지털헬스 스타트업 2곳 신규 투자 http://yna.kr/AKR20210203040200017?did=1195m\n",
      "'디지털 헬스케어' 외국선 건강보험 적용, 우린 언제쯤? https://health.chosun.com/site/data/html_dir/2021/02/03/2021020302780.html\n",
      "GC 헬스케어 계열사, 상반기 공채 진행 http://www.newsis.com/view/?id=NISX20210203_0001327803&cID=13001&pID=13000\n",
      "네이버 D2SF, 간편결제·디지털헬스 스타트업 2곳 투자 http://www.inews24.com/view/1340289\n",
      "GC 헬스케어 부문 계열사, 2021년 상반기 공채 진행 http://www.thebigdata.co.kr/view.php?ud=20210203095602222798818e98b_23\n",
      "GC 헬스케어 부문 계열사, 2021년 상반기 공채 진행 http://www.yakup.com/news/index.html?mode=view&cat=12&nid=254076\n",
      "녹십자홀딩스, 디지털 헬스케어 인재 영입 나선다 http://www.medigatenews.com/news/3835968143\n",
      "GC 헬스케어 부문 계열사, 2021년 상반기 공채 진행 http://www.enewstoday.co.kr/news/articleView.html?idxno=1449749\n",
      "GC 헬스케어 부문 계열사, 2021년 상반기 공채 진행 http://www.kpinews.co.kr/news/articleView.html?idxno=136858\n",
      "디지털 분야 스타트업 기업, “하남시로 모여라!” http://www.viva100.com/main/view.php?key=20210203010000945\n"
     ]
    }
   ],
   "source": [
    "raw = requests.get(\"https://search.naver.com/search.naver?where=news&query=디지털헬스&ds=\"+today+\"&de=\"+today+\"&docid=&nso=so:r,p:from\"+today.replace(\".\", \"\")+\"to\"+today.replace(\".\", \"\")+\",a:all\",\n",
    "                      headers={'User-Agent':'Mozilla/5.0'})\n",
    "html = BeautifulSoup(raw.text, \"html.parser\")\n",
    "                   \n",
    "articles = html.select(\"div.group_news>ul.list_news>li div.news_area>a\")\n",
    "    \n",
    "   \n",
    "   # 반복2: 기사에 대해서 반복하면 세부 정보 수집하기                \n",
    "   # 리스트를 사용한 반복문으로 모든 기사에 대해서 제목/언론사 출력\n",
    "for ar in articles:\n",
    "    title = ar.attrs['title']\n",
    "    source = ar.attrs['href']\n",
    "                   \n",
    "    print(title, source)"
   ]
  },
  {
   "cell_type": "code",
   "execution_count": 6,
   "metadata": {},
   "outputs": [],
   "source": [
    "api = pyfacebook.Api(app_id='411509136782854', app_secret='bb59c10efd858699febf470c6d40e331', long_term_token=\"EAAF2QZBZCrdgYBAJ0RSR6eWtnlJOLVl7EcJ7lJclJCg3YpwrKUl4ID7TIwutTqQddANeQHU4NcvjruGckiqamfEo2JaUDzdgZArcvA6d3vsZCFiVHoZCbIHZCmelV003TpTjO8ZCFgWESxln2vAx1hrt7gpX6sBCvafPH7fYFDSZBF1SsodaItMRQBwI0aCtcdtJ9TfZCmQP8hQZDZD\")"
   ]
  },
  {
   "cell_type": "code",
   "execution_count": 12,
   "metadata": {},
   "outputs": [
    {
     "data": {
      "text/plain": [
       "AccessToken(app_id='411509136782854', application='digital health news', user_id='3688282807914139')"
      ]
     },
     "execution_count": 12,
     "metadata": {},
     "output_type": "execute_result"
    }
   ],
   "source": [
    "api.get_token_info()"
   ]
  },
  {
   "cell_type": "code",
   "execution_count": 13,
   "metadata": {},
   "outputs": [],
   "source": [
    "page_id = api.get_token_info(return_json=True)['profile_id']"
   ]
  },
  {
   "cell_type": "code",
   "execution_count": 14,
   "metadata": {},
   "outputs": [
    {
     "data": {
      "text/plain": [
       "'100816062027585'"
      ]
     },
     "execution_count": 14,
     "metadata": {},
     "output_type": "execute_result"
    }
   ],
   "source": [
    "page_id"
   ]
  },
  {
   "cell_type": "code",
   "execution_count": 15,
   "metadata": {},
   "outputs": [],
   "source": [
    "url = \"https://graph.facebook.com/\"+page_id+\"/feed\""
   ]
  },
  {
   "cell_type": "code",
   "execution_count": null,
   "metadata": {},
   "outputs": [],
   "source": []
  },
  {
   "cell_type": "code",
   "execution_count": null,
   "metadata": {},
   "outputs": [
    {
     "name": "stdout",
     "output_type": "stream",
     "text": [
      "[신간] 디지털 헬스케어 전쟁 http://www.doctorsnews.co.kr/news/articleView.html?idxno=138096\n",
      "정밀위치 기반 디지털 건강관리 서비스 개발나서 http://www.newsis.com/view/?id=NISX20210202_0001326201&cID=13001&pID=13000\n",
      "광주·경기·부산 '초연결 AI헬스케어 플랫폼' 구축 시동 http://geconomy.co.kr/detail.php?number=22224&thread=22r03\n",
      "바이든 시대 수출 유망분야 '신재생에너지·전기차·바이오헬스·디지털전환·홈리빙’ 선정 http://www.kidd.co.kr/news/220700\n",
      "차세대융합기술연구원, 국내 최초 자율주행 공공데이터 개방… 디지털 뉴딜 선도 http://www.kyeonggi.com/news/articleView.html?idxno=2344578\n",
      "삼성SDS, 美 원격진료 공략 잰걸음…헬스케어 SW 기업과 맞손 https://www.theguru.co.kr/news/article.html?no=18439\n",
      "디지털성범죄 대응하는 '권익침해방지과' 3월 만든다 https://hankookilbo.com/News/Read/A2021020209370005768?did=NA\n"
     ]
    }
   ],
   "source": [
    "for ar in articles:\n",
    "    title = ar.attrs['title']\n",
    "    source = ar.attrs['href']\n",
    "    r=requests.post(url, data={'message': title, 'link': source,'access_token': 'EAAF2QZBZCrdgYBAD9N6HHtv8ba8W8CZAT5ZBmKer2Er4MuOvPtXDRRQWOdWboHizclzTDcZA8vRZBfDM0OxBi0QDU2yZCSZAcJQ7Clii5cku6V6khbZBTMrWMTIhKpRzautEdw1w3Y9JNu7PZAZAH4mbGPCB5xac0TSjMGrJuCI7TKvA5eekZBCHYmqFNKfOnRBAtN4VwrKjnoRyNAZDZD'})               \n",
    "    print(title, source)"
   ]
  },
  {
   "cell_type": "code",
   "execution_count": 16,
   "metadata": {},
   "outputs": [],
   "source": [
    "r = requests.post(url, data={'message': title, 'link': source,'access_token': 'EAAF2QZBZCrdgYBAJ0RSR6eWtnlJOLVl7EcJ7lJclJCg3YpwrKUl4ID7TIwutTqQddANeQHU4NcvjruGckiqamfEo2JaUDzdgZArcvA6d3vsZCFiVHoZCbIHZCmelV003TpTjO8ZCFgWESxln2vAx1hrt7gpX6sBCvafPH7fYFDSZBF1SsodaItMRQBwI0aCtcdtJ9TfZCmQP8hQZDZD'})"
   ]
  },
  {
   "cell_type": "code",
   "execution_count": 20,
   "metadata": {},
   "outputs": [
    {
     "data": {
      "text/plain": [
       "403"
      ]
     },
     "execution_count": 20,
     "metadata": {},
     "output_type": "execute_result"
    }
   ],
   "source": [
    "r.status_code"
   ]
  },
  {
   "cell_type": "code",
   "execution_count": null,
   "metadata": {},
   "outputs": [],
   "source": []
  }
 ],
 "metadata": {
  "kernelspec": {
   "display_name": "Python 3",
   "language": "python",
   "name": "python3"
  },
  "language_info": {
   "codemirror_mode": {
    "name": "ipython",
    "version": 3
   },
   "file_extension": ".py",
   "mimetype": "text/x-python",
   "name": "python",
   "nbconvert_exporter": "python",
   "pygments_lexer": "ipython3",
   "version": "3.7.4"
  }
 },
 "nbformat": 4,
 "nbformat_minor": 2
}
