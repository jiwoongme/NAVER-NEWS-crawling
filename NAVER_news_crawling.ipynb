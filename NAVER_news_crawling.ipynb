{
 "cells": [
  {
   "cell_type": "code",
   "execution_count": 2,
   "metadata": {},
   "outputs": [],
   "source": [
    "from bs4 import BeautifulSoup\n",
    "from datetime import datetime\n",
    "import requests\n",
    "import pandas as pd"
   ]
  },
  {
   "cell_type": "code",
   "execution_count": 3,
   "metadata": {},
   "outputs": [],
   "source": [
    "today = datetime.today().strftime(\"%Y.%m.%d\")"
   ]
  },
  {
   "cell_type": "code",
   "execution_count": 4,
   "metadata": {},
   "outputs": [
    {
     "name": "stdout",
     "output_type": "stream",
     "text": [
      "20210319\n"
     ]
    }
   ],
   "source": [
    "print(today.replace(\".\", \"\"))"
   ]
  },
  {
   "cell_type": "code",
   "execution_count": 5,
   "metadata": {
    "scrolled": false
   },
   "outputs": [
    {
     "name": "stdout",
     "output_type": "stream",
     "text": [
      "신한생명·루닛, AI 헬스케어 사업 다각화 '맞손' https://www.itbiznews.com/news/articleView.html?idxno=32054\n",
      "GE헬스케어, KIMES 2021서 솔루션 대거 선 봬 http://www.mbn.co.kr/pages/vod/programContents.php?progCode=683&menuCode=4385&bcastSeqNo=1268134\n",
      "디지털헬스케어 시대, ‘플랫폼제도’ 미흡 여전 http://www.bosa.co.kr/news/articleView.html?idxno=2146582\n",
      "㈜지앤이헬스케어, 한나센스 라이너플러스 신제품 공개 http://news.kmib.co.kr/article/view.asp?arcid=0015647432&code=61141611&cp=nv\n",
      "[더벨]케어랩스, 사상 최대실적…'광고·헬스케어' 쌍끌이 http://www.thebell.co.kr/front/free/contents/news/article_view.asp?key=202103170837211020101472\n",
      "[좋은기업⑱-한화생명] 발빠른 'ESG 경영' 선두권 행보에 디지털 금융서비스까지… 새바람 주목된다   http://www.startuptoday.co.kr/news/articleView.html?idxno=72238\n",
      "SK㈜ C&C 통합 IT아웃소싱, ‘AIA생명의 생보업계 디지털 리더 성장’ 구현 http://www.thedrive.co.kr/news/newsview.php?ncode=1065573820990837\n",
      "라이프시맨틱스, 디지털치료제 기업 첫 코스닥 상장 http://www.bosa.co.kr/news/articleView.html?idxno=2146544\n",
      "“디지털병원, 사람을 위한 디지털을 향해 나아가야” http://www.bosa.co.kr/news/articleView.html?idxno=2146627\n",
      "“디지털의료기기, 지금이 수가를 논의해야 할 시점” http://www.bosa.co.kr/news/articleView.html?idxno=2146567\n"
     ]
    }
   ],
   "source": [
    "raw = requests.get(\"https://search.naver.com/search.naver?where=news&query=디지털헬스&ds=\"+today+\"&de=\"+today+\"&docid=&nso=so:r,p:from\"+today.replace(\".\", \"\")+\"to\"+today.replace(\".\", \"\")+\",a:all\",\n",
    "                      headers={'User-Agent':'Mozilla/5.0'})\n",
    "html = BeautifulSoup(raw.text, \"html.parser\")\n",
    "                   \n",
    "articles = html.select(\"div.group_news>ul.list_news>li div.news_area>a\")\n",
    "    \n",
    "   \n",
    "   # 반복2: 기사에 대해서 반복하면 세부 정보 수집하기                \n",
    "   # 리스트를 사용한 반복문으로 모든 기사에 대해서 제목/언론사 출력\n",
    "for ar in articles:\n",
    "    title = ar.attrs['title']\n",
    "    source = ar.attrs['href']\n",
    "                   \n",
    "    print(title, source)"
   ]
  },
  {
   "cell_type": "code",
   "execution_count": null,
   "metadata": {},
   "outputs": [],
   "source": []
  }
 ],
 "metadata": {
  "kernelspec": {
   "display_name": "Python 3",
   "language": "python",
   "name": "python3"
  },
  "language_info": {
   "codemirror_mode": {
    "name": "ipython",
    "version": 3
   },
   "file_extension": ".py",
   "mimetype": "text/x-python",
   "name": "python",
   "nbconvert_exporter": "python",
   "pygments_lexer": "ipython3",
   "version": "3.7.4"
  }
 },
 "nbformat": 4,
 "nbformat_minor": 2
}
